{
 "cells": [
  {
   "cell_type": "markdown",
   "metadata": {},
   "source": [
    "# Auto-Categorization\n",
    "By Trang VO\n",
    "\n",
    "https://github.com/trang-h-vo"
   ]
  },
  {
   "cell_type": "markdown",
   "metadata": {},
   "source": [
    "## Data preparation"
   ]
  },
  {
   "cell_type": "markdown",
   "metadata": {},
   "source": [
    "### Load data &  libraries"
   ]
  },
  {
   "cell_type": "code",
   "execution_count": 1,
   "metadata": {},
   "outputs": [],
   "source": [
    "import pandas as pd\n",
    "import numpy as np\n",
    "import os\n",
    "from sklearn.model_selection import train_test_split\n",
    "\n",
    "# for visualization\n",
    "import matplotlib.pyplot as plt\n",
    "import seaborn as sns\n",
    "\n",
    "import warnings\n",
    "warnings.filterwarnings(\"ignore\")"
   ]
  },
  {
   "cell_type": "code",
   "execution_count": 2,
   "metadata": {
    "ExecuteTime": {
     "end_time": "2018-01-30T10:37:59.382716Z",
     "start_time": "2018-01-30T10:37:44.208164Z"
    },
    "scrolled": false
   },
   "outputs": [
    {
     "name": "stdout",
     "output_type": "stream",
     "text": [
      "(10000, 9)\n"
     ]
    },
    {
     "data": {
      "text/html": [
       "<div>\n",
       "<style scoped>\n",
       "    .dataframe tbody tr th:only-of-type {\n",
       "        vertical-align: middle;\n",
       "    }\n",
       "\n",
       "    .dataframe tbody tr th {\n",
       "        vertical-align: top;\n",
       "    }\n",
       "\n",
       "    .dataframe thead th {\n",
       "        text-align: right;\n",
       "    }\n",
       "</style>\n",
       "<table border=\"1\" class=\"dataframe\">\n",
       "  <thead>\n",
       "    <tr style=\"text-align: right;\">\n",
       "      <th></th>\n",
       "      <th>create_time</th>\n",
       "      <th>article_id</th>\n",
       "      <th>brand</th>\n",
       "      <th>provider</th>\n",
       "      <th>title</th>\n",
       "      <th>description</th>\n",
       "      <th>price</th>\n",
       "      <th>category_from_provider</th>\n",
       "      <th>category_id</th>\n",
       "    </tr>\n",
       "  </thead>\n",
       "  <tbody>\n",
       "    <tr>\n",
       "      <th>61322</th>\n",
       "      <td>2015-09-17 11:43:14</td>\n",
       "      <td>1023623</td>\n",
       "      <td>EDEM</td>\n",
       "      <td>Profhome</td>\n",
       "      <td>XXL Papier peint non-tissé en relief rayures d...</td>\n",
       "      <td>&lt;p&gt;Fabricant: EDEM, Collection: VERSAILLES&lt;br ...</td>\n",
       "      <td>23.95</td>\n",
       "      <td>None</td>\n",
       "      <td>449</td>\n",
       "    </tr>\n",
       "    <tr>\n",
       "      <th>107983</th>\n",
       "      <td>2014-03-15 05:43:46</td>\n",
       "      <td>2974561</td>\n",
       "      <td>ELEM GARDEN TECHNIC</td>\n",
       "      <td>Toupour France</td>\n",
       "      <td>3 couteaux de peintre inox</td>\n",
       "      <td>&lt;p&gt;3 couteaux de peintre inox&lt;/p&gt;&lt;br /&gt;&lt;strong...</td>\n",
       "      <td>22.39</td>\n",
       "      <td>Racine &gt; Accueil &gt; Outillage manuel &gt; Le plaqu...</td>\n",
       "      <td>440</td>\n",
       "    </tr>\n",
       "    <tr>\n",
       "      <th>103284</th>\n",
       "      <td>2016-11-16 03:43:21</td>\n",
       "      <td>2729208</td>\n",
       "      <td>EMINZA</td>\n",
       "      <td>Eminza</td>\n",
       "      <td>Paire de voilage (60 x H120 cm) Duo Blanc Azur</td>\n",
       "      <td>Paire de voilage (60 x H120 cm) Duo Blanc Azur...</td>\n",
       "      <td>6.90</td>\n",
       "      <td>Voilage</td>\n",
       "      <td>3165</td>\n",
       "    </tr>\n",
       "  </tbody>\n",
       "</table>\n",
       "</div>"
      ],
      "text/plain": [
       "                create_time  article_id                brand        provider  \\\n",
       "61322   2015-09-17 11:43:14     1023623                 EDEM        Profhome   \n",
       "107983  2014-03-15 05:43:46     2974561  ELEM GARDEN TECHNIC  Toupour France   \n",
       "103284  2016-11-16 03:43:21     2729208               EMINZA          Eminza   \n",
       "\n",
       "                                                    title  \\\n",
       "61322   XXL Papier peint non-tissé en relief rayures d...   \n",
       "107983                         3 couteaux de peintre inox   \n",
       "103284     Paire de voilage (60 x H120 cm) Duo Blanc Azur   \n",
       "\n",
       "                                              description  price  \\\n",
       "61322   <p>Fabricant: EDEM, Collection: VERSAILLES<br ...  23.95   \n",
       "107983  <p>3 couteaux de peintre inox</p><br /><strong...  22.39   \n",
       "103284  Paire de voilage (60 x H120 cm) Duo Blanc Azur...   6.90   \n",
       "\n",
       "                                   category_from_provider  category_id  \n",
       "61322                                                None          449  \n",
       "107983  Racine > Accueil > Outillage manuel > Le plaqu...          440  \n",
       "103284                                            Voilage         3165  "
      ]
     },
     "execution_count": 2,
     "metadata": {},
     "output_type": "execute_result"
    }
   ],
   "source": [
    "df = pd.read_parquet(str(os.getcwd()) + '/new_products_autocategorization.parquet')\n",
    "print(df.shape)\n",
    "df.head(3)"
   ]
  },
  {
   "cell_type": "markdown",
   "metadata": {},
   "source": [
    "Select 500 most popular categories:"
   ]
  },
  {
   "cell_type": "code",
   "execution_count": 3,
   "metadata": {},
   "outputs": [
    {
     "data": {
      "text/html": [
       "<div>\n",
       "<style scoped>\n",
       "    .dataframe tbody tr th:only-of-type {\n",
       "        vertical-align: middle;\n",
       "    }\n",
       "\n",
       "    .dataframe tbody tr th {\n",
       "        vertical-align: top;\n",
       "    }\n",
       "\n",
       "    .dataframe thead th {\n",
       "        text-align: right;\n",
       "    }\n",
       "</style>\n",
       "<table border=\"1\" class=\"dataframe\">\n",
       "  <thead>\n",
       "    <tr style=\"text-align: right;\">\n",
       "      <th></th>\n",
       "      <th>category_id</th>\n",
       "      <th>counts</th>\n",
       "    </tr>\n",
       "  </thead>\n",
       "  <tbody>\n",
       "    <tr>\n",
       "      <th>0</th>\n",
       "      <td>2319</td>\n",
       "      <td>176</td>\n",
       "    </tr>\n",
       "    <tr>\n",
       "      <th>1</th>\n",
       "      <td>449</td>\n",
       "      <td>148</td>\n",
       "    </tr>\n",
       "    <tr>\n",
       "      <th>2</th>\n",
       "      <td>490</td>\n",
       "      <td>121</td>\n",
       "    </tr>\n",
       "    <tr>\n",
       "      <th>3</th>\n",
       "      <td>3936</td>\n",
       "      <td>115</td>\n",
       "    </tr>\n",
       "    <tr>\n",
       "      <th>4</th>\n",
       "      <td>1866</td>\n",
       "      <td>107</td>\n",
       "    </tr>\n",
       "    <tr>\n",
       "      <th>...</th>\n",
       "      <td>...</td>\n",
       "      <td>...</td>\n",
       "    </tr>\n",
       "    <tr>\n",
       "      <th>495</th>\n",
       "      <td>1635</td>\n",
       "      <td>5</td>\n",
       "    </tr>\n",
       "    <tr>\n",
       "      <th>496</th>\n",
       "      <td>1104</td>\n",
       "      <td>5</td>\n",
       "    </tr>\n",
       "    <tr>\n",
       "      <th>497</th>\n",
       "      <td>1239</td>\n",
       "      <td>5</td>\n",
       "    </tr>\n",
       "    <tr>\n",
       "      <th>498</th>\n",
       "      <td>1223</td>\n",
       "      <td>5</td>\n",
       "    </tr>\n",
       "    <tr>\n",
       "      <th>499</th>\n",
       "      <td>1103</td>\n",
       "      <td>5</td>\n",
       "    </tr>\n",
       "  </tbody>\n",
       "</table>\n",
       "<p>500 rows × 2 columns</p>\n",
       "</div>"
      ],
      "text/plain": [
       "     category_id  counts\n",
       "0           2319     176\n",
       "1            449     148\n",
       "2            490     121\n",
       "3           3936     115\n",
       "4           1866     107\n",
       "..           ...     ...\n",
       "495         1635       5\n",
       "496         1104       5\n",
       "497         1239       5\n",
       "498         1223       5\n",
       "499         1103       5\n",
       "\n",
       "[500 rows x 2 columns]"
      ]
     },
     "execution_count": 3,
     "metadata": {},
     "output_type": "execute_result"
    }
   ],
   "source": [
    "top_categories = df['category_id'].value_counts().reset_index()[:500]\n",
    "top_categories.columns = ['category_id', 'counts']\n",
    "top_categories"
   ]
  },
  {
   "cell_type": "code",
   "execution_count": 4,
   "metadata": {},
   "outputs": [],
   "source": [
    "# create a new dataFrame with 500 most popular categories & use it for the new experiment\n",
    "df_new = df.loc[df['category_id'].isin(top_categories['category_id']), :]\n",
    "\n",
    "# fill in missing values\n",
    "df_new.fillna(' ', inplace=True)\n",
    "\n",
    "# set text data to lower strings\n",
    "for col in ['brand', 'provider', 'title', 'category_from_provider', 'description']:\n",
    "    df_new[col] = df_new[col].str.lower()"
   ]
  },
  {
   "cell_type": "markdown",
   "metadata": {},
   "source": [
    "### Split train & validation set"
   ]
  },
  {
   "cell_type": "code",
   "execution_count": 5,
   "metadata": {},
   "outputs": [],
   "source": [
    "# define features & target\n",
    "X = df_new.drop('category_id', axis=1)\n",
    "y = df_new['category_id']"
   ]
  },
  {
   "cell_type": "code",
   "execution_count": 6,
   "metadata": {},
   "outputs": [
    {
     "name": "stdout",
     "output_type": "stream",
     "text": [
      "X_train shape: (6642, 8)\n",
      "X_test shape: (738, 8)\n"
     ]
    }
   ],
   "source": [
    "X_train, X_test, y_train, y_test = train_test_split(X, y, test_size=0.1,\n",
    "                                                                    stratify=y, random_state=1)\n",
    "print(f'X_train shape: {X_train.shape}')\n",
    "print(f'X_test shape: {X_test.shape}')"
   ]
  },
  {
   "cell_type": "code",
   "execution_count": 7,
   "metadata": {
    "scrolled": false
   },
   "outputs": [],
   "source": [
    "# Concatenate X_train & X_test to have similar feature engineering\n",
    "X_train['is_train'] = 1\n",
    "X_test['is_train'] = 0\n",
    "\n",
    "X_fe = pd.concat([X_train, X_test])"
   ]
  },
  {
   "cell_type": "markdown",
   "metadata": {},
   "source": [
    "### Text transformer"
   ]
  },
  {
   "cell_type": "code",
   "execution_count": 8,
   "metadata": {},
   "outputs": [],
   "source": [
    "X_fe['price_rounded'] = X_fe['price'].round(0).astype(int)"
   ]
  },
  {
   "cell_type": "code",
   "execution_count": 9,
   "metadata": {},
   "outputs": [],
   "source": [
    "# Combine the text cols into 1 column to tokenize altogether\n",
    "X_fe['full_text'] = X_fe['title'] + ' ' + X_fe['category_from_provider'] + ' ' + X_fe['description']\\\n",
    "                    + ' ' + X_fe['brand'] + ' ' + X_fe['provider'] + ' ' + X_fe['price_rounded'].astype(str)"
   ]
  },
  {
   "cell_type": "markdown",
   "metadata": {},
   "source": [
    "**Text preprocessor**"
   ]
  },
  {
   "cell_type": "markdown",
   "metadata": {},
   "source": [
    "Import libraries for text preprocessing"
   ]
  },
  {
   "cell_type": "code",
   "execution_count": 10,
   "metadata": {},
   "outputs": [],
   "source": [
    "# pip install spacy-lefff\n",
    "# !python3 -m spacy download fr_core_news_sm"
   ]
  },
  {
   "cell_type": "code",
   "execution_count": 11,
   "metadata": {},
   "outputs": [],
   "source": [
    "import string \n",
    "from bs4 import BeautifulSoup # to remove htmml tags\n",
    "import fr_core_news_sm # lemmatization\n",
    "\n",
    "import spacy\n",
    "from spacy.lang.fr import French\n",
    "from spacy_lefff import LefffLemmatizer, POSTagger"
   ]
  },
  {
   "cell_type": "code",
   "execution_count": 12,
   "metadata": {},
   "outputs": [],
   "source": [
    "# # alternative French stopwords list\n",
    "# from nltk.corpus import stopwords\n",
    "# stop_words = stopwords.words('french')"
   ]
  },
  {
   "cell_type": "markdown",
   "metadata": {},
   "source": [
    "Create a French stop_words list"
   ]
  },
  {
   "cell_type": "code",
   "execution_count": 13,
   "metadata": {},
   "outputs": [],
   "source": [
    "from spacy.lang.fr.stop_words import STOP_WORDS as fr_stop\n",
    "fr_stop_words = list(fr_stop)"
   ]
  },
  {
   "cell_type": "code",
   "execution_count": 14,
   "metadata": {},
   "outputs": [],
   "source": [
    "# prepare for French lemmatization\n",
    "nlp = fr_core_news_sm.load()"
   ]
  },
  {
   "cell_type": "code",
   "execution_count": 15,
   "metadata": {},
   "outputs": [],
   "source": [
    "def text_preprocessor(doc):\n",
    "    # remove html tags\n",
    "    doc = doc.replace('<', ' ').replace('>', ' ')\\\n",
    "                .replace('/', ' ').replace('(\\)', ' ')\\\n",
    "                .replace('.', ' ').replace(':', ' ')\\\n",
    "                .replace('!', ' ').replace('(', ' ')\\\n",
    "                .replace(')', ' ').replace(',', ' ')\n",
    "\n",
    "    words = doc.split()\n",
    "    doc_filtered = ''\n",
    "    \n",
    "    for w in words: \n",
    "        if (len(w)>=3) and (w not in fr_stop_words): \n",
    "            doc_filtered = doc_filtered + w + ' '\n",
    "            \n",
    "    tokens = nlp(doc_filtered)\n",
    "    lemmas = '' \n",
    "    \n",
    "    for tok in tokens:  \n",
    "         # only keep nouns, verbs, adjectives & numbers\n",
    "        if tok.pos_ in ('ADP', 'ADV', 'DET', 'PRON', 'PROPN', 'PUNCT'):\n",
    "            pass\n",
    "        elif (tok.pos_ in ('NOUN', 'ADJ', 'VERB')):\n",
    "            # lemmatize\n",
    "            lemmas = lemmas + tok.lemma_ + \" \"\n",
    "        else:\n",
    "            lemmas = lemmas + str(tok) + \" \"\n",
    "    return lemmas"
   ]
  },
  {
   "cell_type": "code",
   "execution_count": 16,
   "metadata": {},
   "outputs": [],
   "source": [
    "X_fe['full_text_preprocessed'] = X_fe['full_text'].apply(text_preprocessor)"
   ]
  },
  {
   "cell_type": "markdown",
   "metadata": {},
   "source": [
    "## Machine Learning"
   ]
  },
  {
   "cell_type": "markdown",
   "metadata": {},
   "source": [
    "### Tf-Idf & SGDClassifer"
   ]
  },
  {
   "cell_type": "markdown",
   "metadata": {},
   "source": [
    "#### Tfidf Vectorizer"
   ]
  },
  {
   "cell_type": "code",
   "execution_count": 17,
   "metadata": {},
   "outputs": [],
   "source": [
    "from sklearn.feature_extraction.text import TfidfVectorizer\n",
    "vectorizer = TfidfVectorizer(binary=True, max_features=10000)"
   ]
  },
  {
   "cell_type": "code",
   "execution_count": 18,
   "metadata": {},
   "outputs": [
    {
     "data": {
      "text/plain": [
       "(7380, 10000)"
      ]
     },
     "execution_count": 18,
     "metadata": {},
     "output_type": "execute_result"
    }
   ],
   "source": [
    "full_text_vectorized = vectorizer.fit_transform(X_fe['full_text_preprocessed'])\n",
    "full_text_vectorized.shape"
   ]
  },
  {
   "cell_type": "code",
   "execution_count": 19,
   "metadata": {},
   "outputs": [],
   "source": [
    "X_train_vec = full_text_vectorized.tocsr()[:6642,:]\n",
    "X_test_vec = full_text_vectorized.tocsr()[6642:,:]"
   ]
  },
  {
   "cell_type": "markdown",
   "metadata": {},
   "source": [
    "#### SGDClassifier"
   ]
  },
  {
   "cell_type": "code",
   "execution_count": 20,
   "metadata": {},
   "outputs": [],
   "source": [
    "from sklearn.linear_model import SGDClassifier\n",
    "from sklearn.model_selection import cross_val_score, RepeatedKFold, cross_val_predict\n",
    "from sklearn.metrics import accuracy_score, f1_score"
   ]
  },
  {
   "cell_type": "code",
   "execution_count": 21,
   "metadata": {
    "scrolled": false
   },
   "outputs": [
    {
     "name": "stdout",
     "output_type": "stream",
     "text": [
      "SGD Classifier CV scores on full train set:\n",
      " [0.73137698 0.71181339 0.74021084 0.7371988  0.75903614 0.74191121\n",
      " 0.73739654 0.74698795 0.7311747  0.72966867]\n",
      "CV mean score:  0.7366775227320115\n",
      "CV scores std:  0.011715815069054898\n"
     ]
    }
   ],
   "source": [
    "sgd = SGDClassifier(max_iter=20000, alpha=0.0001, n_jobs=-1, random_state=123)\n",
    "cv = cross_val_score(sgd, X_train_vec, y_train, scoring='accuracy',\n",
    "                     cv=RepeatedKFold(n_splits=5, n_repeats=2))\n",
    "print('SGD Classifier CV scores on full train set:\\n', cv)\n",
    "print('CV mean score: ', cv.mean())\n",
    "print('CV scores std: ', cv.std())"
   ]
  },
  {
   "cell_type": "markdown",
   "metadata": {},
   "source": [
    "Get scores on the full train set using cross_val_predict:"
   ]
  },
  {
   "cell_type": "code",
   "execution_count": 22,
   "metadata": {
    "scrolled": false
   },
   "outputs": [
    {
     "name": "stdout",
     "output_type": "stream",
     "text": [
      "SGD Classifier scores on full train set:\n",
      "Accuracy score:  0.7621198434206564\n",
      "F1 macro score:  0.6568292204998418\n"
     ]
    }
   ],
   "source": [
    "y_train_pred_sgd = cross_val_predict(sgd, X_train_vec, y_train, cv=5, n_jobs=-1)\n",
    "print('SGD Classifier scores on full train set:')\n",
    "print('Accuracy score: ', accuracy_score(y_train, y_train_pred_sgd))\n",
    "print('F1 macro score: ', f1_score(y_train, y_train_pred_sgd, average='macro'))"
   ]
  },
  {
   "cell_type": "markdown",
   "metadata": {},
   "source": [
    "Get score on the validation set:"
   ]
  },
  {
   "cell_type": "code",
   "execution_count": 23,
   "metadata": {
    "scrolled": true
   },
   "outputs": [
    {
     "name": "stdout",
     "output_type": "stream",
     "text": [
      "SGD scores on validation set:\n",
      "Accuracy score:  0.7560975609756098\n",
      "F1 macro score:  0.6302208624586539\n"
     ]
    }
   ],
   "source": [
    "sgd.fit(X_train_vec, y_train)\n",
    "y_pred_sgd = sgd.predict(X_test_vec)\n",
    "print('SGD scores on validation set:')\n",
    "print('Accuracy score: ', accuracy_score(y_test, y_pred_sgd))\n",
    "print('F1 macro score: ', f1_score(y_test, y_pred_sgd, average='macro'))"
   ]
  },
  {
   "cell_type": "markdown",
   "metadata": {},
   "source": [
    "SGD performs quite well and has no overfitting issue, given the small training set and high number of target classes."
   ]
  },
  {
   "cell_type": "markdown",
   "metadata": {},
   "source": [
    "### Neural Networks with TensorFlow/Keras\n",
    "As the training set is rather small compared to the number of classes, I'll use MLP with 1 hidden layer. Other tests show that with more hidden layers, the models perform poorly.\n",
    "\n",
    "Steps inlude:\n",
    "\n",
    "- Use `Keras Tokenizer` to transform the text to sequences and then to matrices\n",
    "- Transform the target labels before feeding to MLP\n",
    "- Test a simple model\n",
    "- Tune hyperparameters using Keras Tuners: `RandomSearch` & `Hyperband Tuner`."
   ]
  },
  {
   "cell_type": "code",
   "execution_count": 25,
   "metadata": {},
   "outputs": [
    {
     "name": "stdout",
     "output_type": "stream",
     "text": [
      "TensorFlow version: 2.4.1\n"
     ]
    }
   ],
   "source": [
    "import tensorflow as tf\n",
    "print(f'TensorFlow version: {tf.__version__}')\n",
    "from tensorflow.keras.models import Sequential\n",
    "from tensorflow.keras.layers import Dense, Dropout, Activation\n",
    "from tensorflow.keras.utils import to_categorical \n",
    "from sklearn.preprocessing import LabelEncoder\n",
    "from tensorflow.keras.preprocessing.text import Tokenizer\n",
    "from tensorflow.keras import callbacks\n",
    "tf.random.set_seed(42)"
   ]
  },
  {
   "cell_type": "markdown",
   "metadata": {},
   "source": [
    "#### Keras Tokenizer"
   ]
  },
  {
   "cell_type": "markdown",
   "metadata": {},
   "source": [
    "Transform text to sequences:"
   ]
  },
  {
   "cell_type": "code",
   "execution_count": 26,
   "metadata": {},
   "outputs": [],
   "source": [
    "max_words = 10000\n",
    "num_tokenizer = Tokenizer(num_words=max_words)\n",
    "\n",
    "# fit on preprocessed text\n",
    "num_tokenizer.fit_on_texts(X_fe['full_text_preprocessed'])\n",
    "X_full_sequences = num_tokenizer.texts_to_sequences(X_fe['full_text_preprocessed'])\n",
    "\n",
    "X_train_sequences = X_full_sequences[:6642]\n",
    "X_test_sequences = X_full_sequences[6642:]"
   ]
  },
  {
   "cell_type": "markdown",
   "metadata": {},
   "source": [
    "Tokenize the sequences to matrix:"
   ]
  },
  {
   "cell_type": "code",
   "execution_count": 27,
   "metadata": {
    "scrolled": true
   },
   "outputs": [
    {
     "name": "stdout",
     "output_type": "stream",
     "text": [
      "Vectorizing sequence data...\n",
      "X_train_keras shape: (6642, 10000)\n",
      "X_test_keras shape: (738, 10000)\n"
     ]
    }
   ],
   "source": [
    "print('Vectorizing sequence data...')\n",
    "tokenizer = Tokenizer(num_words=max_words)\n",
    "\n",
    "X_train_keras = tokenizer.sequences_to_matrix(X_train_sequences, mode='binary')\n",
    "X_test_keras = tokenizer.sequences_to_matrix(X_test_sequences, mode='binary')\n",
    "\n",
    "print('X_train_keras shape:', X_train_keras.shape)\n",
    "print('X_test_keras shape:', X_test_keras.shape)"
   ]
  },
  {
   "cell_type": "markdown",
   "metadata": {},
   "source": [
    "**Transform the target variable for keras**"
   ]
  },
  {
   "cell_type": "code",
   "execution_count": 28,
   "metadata": {},
   "outputs": [],
   "source": [
    "# concaternate y_train & y_test for transformation\n",
    "y_full = pd.concat([y_train, y_test], axis=0)"
   ]
  },
  {
   "cell_type": "code",
   "execution_count": 29,
   "metadata": {
    "scrolled": false
   },
   "outputs": [
    {
     "name": "stdout",
     "output_type": "stream",
     "text": [
      "Convert class vector to binary class matrix (for use with categorical_crossentropy)\n",
      "y_train_keras shape as a binary class matrix: (6642, 500)\n",
      "y_test_keras shape as a binary class matrix: (738, 500)\n"
     ]
    }
   ],
   "source": [
    "from tensorflow.keras.utils import to_categorical \n",
    "print('Convert class vector to binary class matrix (for use with categorical_crossentropy)')\n",
    "nb_classes = y_full.unique().shape[0]\n",
    "\n",
    "from sklearn.preprocessing import LabelEncoder\n",
    "encoder = LabelEncoder()\n",
    "encoder.fit(y_full)\n",
    "y_train_encoded = encoder.transform(y_train)\n",
    "y_test_encoded = encoder.transform(y_test)\n",
    "\n",
    "y_train_keras = to_categorical(y_train_encoded, nb_classes)\n",
    "y_test_keras = to_categorical(y_test_encoded, nb_classes)\n",
    "print('y_train_keras shape as a binary class matrix:', y_train_keras.shape)\n",
    "print('y_test_keras shape as a binary class matrix:', y_test_keras.shape)"
   ]
  },
  {
   "cell_type": "markdown",
   "metadata": {},
   "source": [
    "#### MLP"
   ]
  },
  {
   "cell_type": "code",
   "execution_count": 30,
   "metadata": {},
   "outputs": [
    {
     "name": "stdout",
     "output_type": "stream",
     "text": [
      "Epoch 1/10\n",
      "997/997 [==============================] - 7s 5ms/step - loss: 5.5999 - accuracy: 0.1620 - val_loss: 4.0524 - val_accuracy: 0.3188\n",
      "Epoch 2/10\n",
      "997/997 [==============================] - 4s 4ms/step - loss: 3.3339 - accuracy: 0.4340 - val_loss: 3.0665 - val_accuracy: 0.4556\n",
      "Epoch 3/10\n",
      "997/997 [==============================] - 4s 4ms/step - loss: 2.2759 - accuracy: 0.6090 - val_loss: 2.4747 - val_accuracy: 0.5444\n",
      "Epoch 4/10\n",
      "997/997 [==============================] - 4s 4ms/step - loss: 1.5575 - accuracy: 0.7499 - val_loss: 2.0972 - val_accuracy: 0.5970\n",
      "Epoch 5/10\n",
      "997/997 [==============================] - 4s 4ms/step - loss: 1.1101 - accuracy: 0.8344 - val_loss: 1.8334 - val_accuracy: 0.6481\n",
      "Epoch 6/10\n",
      "997/997 [==============================] - 4s 4ms/step - loss: 0.7448 - accuracy: 0.9068 - val_loss: 1.6529 - val_accuracy: 0.6707\n",
      "Epoch 7/10\n",
      "997/997 [==============================] - 4s 4ms/step - loss: 0.5091 - accuracy: 0.9451 - val_loss: 1.5117 - val_accuracy: 0.6797\n",
      "Epoch 8/10\n",
      "997/997 [==============================] - 4s 4ms/step - loss: 0.3327 - accuracy: 0.9689 - val_loss: 1.4175 - val_accuracy: 0.6767\n",
      "Epoch 9/10\n",
      "997/997 [==============================] - 4s 4ms/step - loss: 0.2318 - accuracy: 0.9848 - val_loss: 1.3602 - val_accuracy: 0.6857\n",
      "Epoch 10/10\n",
      "997/997 [==============================] - 4s 4ms/step - loss: 0.1545 - accuracy: 0.9895 - val_loss: 1.3123 - val_accuracy: 0.6887\n"
     ]
    }
   ],
   "source": [
    "nb_epoch = 10\n",
    "\n",
    "nn1 = Sequential()\n",
    "nn1.add(Dense(30, input_shape=(max_words,)))\n",
    "nn1.add(Activation('tanh'))\n",
    "# nn1.add(Dropout(0.4))\n",
    "\n",
    "nn1.add(Dense(nb_classes))\n",
    "nn1.add(Activation('softmax'))\n",
    "\n",
    "nn1.compile(loss='categorical_crossentropy',\n",
    "          optimizer='adam',\n",
    "          metrics=['accuracy'])\n",
    "\n",
    "history_1 = nn1.fit(X_train_keras, y_train_keras, epochs=nb_epoch, validation_split=0.1, batch_size=6, verbose=1)"
   ]
  },
  {
   "cell_type": "code",
   "execution_count": 31,
   "metadata": {},
   "outputs": [
    {
     "data": {
      "image/png": "[encoded data removed]",
      "text/plain": [
       "<Figure size 432x288 with 1 Axes>"
      ]
     },
     "metadata": {
      "needs_background": "light"
     },
     "output_type": "display_data"
    }
   ],
   "source": [
    "import matplotlib.pyplot as plt\n",
    "pd.DataFrame(history_1.history).plot(figsize=(6,4)) #, marker='o'\n",
    "# plt.gca().set_ylim(0,1)\n",
    "plt.show()"
   ]
  },
  {
   "cell_type": "code",
   "execution_count": 32,
   "metadata": {
    "scrolled": false
   },
   "outputs": [
    {
     "name": "stdout",
     "output_type": "stream",
     "text": [
      "24/24 [==============================] - 0s 6ms/step - loss: 1.3606 - accuracy: 0.6829\n"
     ]
    }
   ],
   "source": [
    "score_1 = nn1.evaluate(X_test_keras, y_test_keras)"
   ]
  },
  {
   "cell_type": "markdown",
   "metadata": {},
   "source": [
    "#### Keras Tuners\n",
    "- Simplified approach:\n",
    "        - Using dropout to help prevent overfitting\n",
    "        - Alternate number of neurons in the hidden layer, activation functions\n",
    "\n",
    "- To search in a larger hyperparameter space: increase number of hidden layers, tune the dropout rate, optimizers, learning rate..."
   ]
  },
  {
   "cell_type": "markdown",
   "metadata": {},
   "source": [
    "##### RandomSearch"
   ]
  },
  {
   "cell_type": "markdown",
   "metadata": {},
   "source": [
    "Build a hypermodel"
   ]
  },
  {
   "cell_type": "code",
   "execution_count": 33,
   "metadata": {},
   "outputs": [],
   "source": [
    "from kerastuner import HyperModel\n",
    "from kerastuner.tuners import RandomSearch\n",
    "class ClassifierHyperModel(HyperModel):\n",
    "    def __init__(self, input_shape):\n",
    "        self.input_shape = input_shape\n",
    "    \n",
    "    def build(self, HyperModel):     \n",
    "        model = Sequential()\n",
    "        model.add(\n",
    "            Dense(units=HyperModel.Int('units', min_value=24, max_value=44, step=4, default=40),\n",
    "                  activation=HyperModel.Choice(name = 'dense_activation',\n",
    "                                       values = ['relu', 'tanh', 'sigmoid'],\n",
    "                                       default='relu', ordered = False),\n",
    "                  input_shape=input_shape)\n",
    "            )\n",
    "        \n",
    "        model.add(\n",
    "            Dropout(HyperModel.Float(name='dropout', min_value=0.2, max_value=0.6, step=0.1, default=0.5))\n",
    "            )\n",
    "        \n",
    "        model.add(Dense(nb_classes))\n",
    "        model.add(Activation('softmax'))\n",
    "        \n",
    "        model.compile(\n",
    "            optimizer='adam',\n",
    "            loss='categorical_crossentropy',metrics=['accuracy']\n",
    "            )\n",
    "        \n",
    "        return model"
   ]
  },
  {
   "cell_type": "code",
   "execution_count": 34,
   "metadata": {},
   "outputs": [],
   "source": [
    "input_shape = (max_words,)\n",
    "hypermodel = ClassifierHyperModel(input_shape)"
   ]
  },
  {
   "cell_type": "markdown",
   "metadata": {},
   "source": [
    "Tuner's settings"
   ]
  },
  {
   "cell_type": "code",
   "execution_count": 35,
   "metadata": {},
   "outputs": [
    {
     "name": "stdout",
     "output_type": "stream",
     "text": [
      "INFO:tensorflow:Reloading Oracle from existing project ./untitled_project/oracle.json\n",
      "INFO:tensorflow:Reloading Tuner from ./untitled_project/tuner0.json\n"
     ]
    }
   ],
   "source": [
    "tuner_rs = RandomSearch(\n",
    "            hypermodel,\n",
    "            objective='val_accuracy',\n",
    "            seed=42,\n",
    "            max_trials=10,\n",
    "            executions_per_trial=2)\n",
    "\n",
    "es_callback = callbacks.EarlyStopping(\n",
    "    monitor='val_loss',\n",
    "    patience=5,\n",
    "    restore_best_weights=True\n",
    "    )"
   ]
  },
  {
   "cell_type": "markdown",
   "metadata": {},
   "source": [
    "Launch RandomSearch"
   ]
  },
  {
   "cell_type": "code",
   "execution_count": 36,
   "metadata": {},
   "outputs": [
    {
     "name": "stdout",
     "output_type": "stream",
     "text": [
      "INFO:tensorflow:Oracle triggered exit\n"
     ]
    }
   ],
   "source": [
    "tuner_rs.search(X_train_keras, y_train_keras,\n",
    "                epochs=50,\n",
    "                validation_split=0.1,\n",
    "                batch_size=8,\n",
    "                callbacks=[es_callback],\n",
    "                verbose=1,\n",
    "                seed=42)"
   ]
  },
  {
   "cell_type": "code",
   "execution_count": 37,
   "metadata": {
    "scrolled": true
   },
   "outputs": [
    {
     "name": "stdout",
     "output_type": "stream",
     "text": [
      "Results summary\n",
      "Results in ./untitled_project\n",
      "Showing 5 best trials\n",
      "Objective(name='val_accuracy', direction='max')\n",
      "Trial summary\n",
      "Hyperparameters:\n",
      "units: 32\n",
      "dense_activation: tanh\n",
      "dropout: 0.4000000000000001\n",
      "Score: 0.693233072757721\n",
      "Trial summary\n",
      "Hyperparameters:\n",
      "units: 36\n",
      "dense_activation: relu\n",
      "dropout: 0.30000000000000004\n",
      "Score: 0.6902255713939667\n",
      "Trial summary\n",
      "Hyperparameters:\n",
      "units: 28\n",
      "dense_activation: tanh\n",
      "dropout: 0.4000000000000001\n",
      "Score: 0.6887218058109283\n",
      "Trial summary\n",
      "Hyperparameters:\n",
      "units: 32\n",
      "dense_activation: tanh\n",
      "dropout: 0.6000000000000001\n",
      "Score: 0.68721804022789\n",
      "Trial summary\n",
      "Hyperparameters:\n",
      "units: 36\n",
      "dense_activation: relu\n",
      "dropout: 0.4000000000000001\n",
      "Score: 0.6857143044471741\n"
     ]
    }
   ],
   "source": [
    "tuner_rs.results_summary(5)"
   ]
  },
  {
   "cell_type": "markdown",
   "metadata": {},
   "source": [
    "Get best model by RandomSearch & check accuracy score on the test set:"
   ]
  },
  {
   "cell_type": "code",
   "execution_count": 38,
   "metadata": {},
   "outputs": [
    {
     "name": "stdout",
     "output_type": "stream",
     "text": [
      "24/24 [==============================] - 2s 12ms/step - loss: 1.6383 - accuracy: 0.6277\n"
     ]
    }
   ],
   "source": [
    "best_model_rs = tuner_rs.get_best_models(num_models=1)[0]\n",
    "loss, mse = best_model_rs.evaluate(X_test_keras, y_test_keras)"
   ]
  },
  {
   "cell_type": "markdown",
   "metadata": {},
   "source": [
    "Using the hyperparameters found by RandomSearch, we'll train the model again, this time using smaller batch size, higher number of epochs while still keep the callbacks function to prevent overfitting."
   ]
  },
  {
   "cell_type": "code",
   "execution_count": 39,
   "metadata": {},
   "outputs": [
    {
     "name": "stdout",
     "output_type": "stream",
     "text": [
      "Epoch 1/30\n",
      "2989/2989 [==============================] - 17s 5ms/step - loss: 5.4689 - accuracy: 0.1507 - val_loss: 3.9435 - val_accuracy: 0.3579\n",
      "Epoch 2/30\n",
      "2989/2989 [==============================] - 13s 4ms/step - loss: 3.3171 - accuracy: 0.4288 - val_loss: 3.1019 - val_accuracy: 0.4602\n",
      "Epoch 3/30\n",
      "2989/2989 [==============================] - 11s 4ms/step - loss: 2.4345 - accuracy: 0.5579 - val_loss: 2.5934 - val_accuracy: 0.5398\n",
      "Epoch 4/30\n",
      "2989/2989 [==============================] - 12s 4ms/step - loss: 1.8116 - accuracy: 0.6643 - val_loss: 2.2466 - val_accuracy: 0.5970\n",
      "Epoch 5/30\n",
      "2989/2989 [==============================] - 11s 4ms/step - loss: 1.4450 - accuracy: 0.7405 - val_loss: 1.9856 - val_accuracy: 0.6180\n",
      "Epoch 6/30\n",
      "2989/2989 [==============================] - 11s 4ms/step - loss: 1.1173 - accuracy: 0.8097 - val_loss: 1.8164 - val_accuracy: 0.6571\n",
      "Epoch 7/30\n",
      "2989/2989 [==============================] - 10s 3ms/step - loss: 0.8946 - accuracy: 0.8517 - val_loss: 1.6711 - val_accuracy: 0.6647\n",
      "Epoch 8/30\n",
      "2989/2989 [==============================] - 12s 4ms/step - loss: 0.6945 - accuracy: 0.8987 - val_loss: 1.5691 - val_accuracy: 0.6752\n",
      "Epoch 9/30\n",
      "2989/2989 [==============================] - 11s 4ms/step - loss: 0.5743 - accuracy: 0.9162 - val_loss: 1.4995 - val_accuracy: 0.6827\n",
      "Epoch 10/30\n",
      "2989/2989 [==============================] - 11s 4ms/step - loss: 0.4723 - accuracy: 0.9365 - val_loss: 1.4468 - val_accuracy: 0.6842\n",
      "Epoch 11/30\n",
      "2989/2989 [==============================] - 9s 3ms/step - loss: 0.4018 - accuracy: 0.9552 - val_loss: 1.4420 - val_accuracy: 0.6707\n",
      "Epoch 12/30\n",
      "2989/2989 [==============================] - 10s 3ms/step - loss: 0.3355 - accuracy: 0.9581 - val_loss: 1.3935 - val_accuracy: 0.6827\n",
      "Epoch 13/30\n",
      "2989/2989 [==============================] - 9s 3ms/step - loss: 0.2957 - accuracy: 0.9658 - val_loss: 1.3881 - val_accuracy: 0.6752\n",
      "Epoch 14/30\n",
      "2989/2989 [==============================] - 11s 4ms/step - loss: 0.2712 - accuracy: 0.9715 - val_loss: 1.3829 - val_accuracy: 0.6917\n",
      "Epoch 15/30\n",
      "2989/2989 [==============================] - 9s 3ms/step - loss: 0.2446 - accuracy: 0.9732 - val_loss: 1.3695 - val_accuracy: 0.6857\n",
      "Epoch 16/30\n",
      "2989/2989 [==============================] - 10s 3ms/step - loss: 0.2274 - accuracy: 0.9728 - val_loss: 1.3816 - val_accuracy: 0.6917\n",
      "Epoch 17/30\n",
      "2989/2989 [==============================] - 10s 3ms/step - loss: 0.1922 - accuracy: 0.9778 - val_loss: 1.3888 - val_accuracy: 0.6887\n",
      "Epoch 18/30\n",
      "2989/2989 [==============================] - 11s 4ms/step - loss: 0.1981 - accuracy: 0.9767 - val_loss: 1.3688 - val_accuracy: 0.6917\n",
      "Epoch 19/30\n",
      "2989/2989 [==============================] - 10s 3ms/step - loss: 0.1642 - accuracy: 0.9827 - val_loss: 1.3898 - val_accuracy: 0.6887\n",
      "Epoch 20/30\n",
      "2989/2989 [==============================] - 10s 3ms/step - loss: 0.1581 - accuracy: 0.9853 - val_loss: 1.4228 - val_accuracy: 0.6857\n",
      "Epoch 21/30\n",
      "2989/2989 [==============================] - 10s 3ms/step - loss: 0.1412 - accuracy: 0.9853 - val_loss: 1.4219 - val_accuracy: 0.6977\n",
      "Epoch 22/30\n",
      "2989/2989 [==============================] - 10s 3ms/step - loss: 0.1364 - accuracy: 0.9868 - val_loss: 1.4359 - val_accuracy: 0.6932\n",
      "Epoch 23/30\n",
      "2989/2989 [==============================] - 10s 3ms/step - loss: 0.1286 - accuracy: 0.9864 - val_loss: 1.4207 - val_accuracy: 0.6842\n"
     ]
    }
   ],
   "source": [
    "nn_rs = Sequential()\n",
    "nn_rs.add(Dense(32, input_shape=(max_words,)))\n",
    "nn_rs.add(Activation('tanh'))\n",
    "nn_rs.add(Dropout(0.4))\n",
    "\n",
    "nn_rs.add(Dense(nb_classes))\n",
    "nn_rs.add(Activation('softmax'))\n",
    "\n",
    "nn_rs.compile(loss='categorical_crossentropy',\n",
    "          optimizer='adam',\n",
    "          metrics=['accuracy'])\n",
    "\n",
    "es_callback = callbacks.EarlyStopping(\n",
    "    monitor='val_loss',\n",
    "    patience=5,\n",
    "    restore_best_weights=True\n",
    "    )\n",
    "\n",
    "history_rs = nn_rs.fit(X_train_keras, y_train_keras, epochs=30, validation_split=0.1,\n",
    "                      callbacks=[es_callback], batch_size=2, verbose=1)"
   ]
  },
  {
   "cell_type": "code",
   "execution_count": 40,
   "metadata": {},
   "outputs": [
    {
     "name": "stdout",
     "output_type": "stream",
     "text": [
      "24/24 [==============================] - 0s 5ms/step - loss: 1.3983 - accuracy: 0.7005\n"
     ]
    }
   ],
   "source": [
    "loss, mse = nn_rs.evaluate(X_test_keras, y_test_keras)"
   ]
  },
  {
   "cell_type": "markdown",
   "metadata": {},
   "source": [
    "##### Hyperband Tuner"
   ]
  },
  {
   "cell_type": "code",
   "execution_count": 41,
   "metadata": {},
   "outputs": [],
   "source": [
    "from kerastuner.tuners.hyperband import Hyperband"
   ]
  },
  {
   "cell_type": "code",
   "execution_count": 44,
   "metadata": {},
   "outputs": [
    {
     "name": "stdout",
     "output_type": "stream",
     "text": [
      "Trial 90 Complete [00h 02m 50s]\n",
      "val_accuracy: 0.6586466133594513\n",
      "\n",
      "Best val_accuracy So Far: 0.7248120307922363\n",
      "Total elapsed time: 01h 08m 27s\n",
      "INFO:tensorflow:Oracle triggered exit\n"
     ]
    }
   ],
   "source": [
    "# tuner settings\n",
    "tuner_hb = Hyperband(hypermodel,\n",
    "                     max_epochs=35,\n",
    "                     objective='val_accuracy',\n",
    "                     factor=3,\n",
    "                     seed=42,\n",
    "                     executions_per_trial=2,\n",
    "                     directory='hyperband_tuner')\n",
    "\n",
    "hb_callback = callbacks.EarlyStopping(\n",
    "    monitor='val_loss',\n",
    "    patience=5,\n",
    "    restore_best_weights=True\n",
    "    )\n",
    "\n",
    "# launch tuning process\n",
    "tuner_hb.search(X_train_keras, y_train_keras,\n",
    "                epochs=35,\n",
    "                validation_split=0.1,\n",
    "                callbacks=[hb_callback],\n",
    "                batch_size=8,\n",
    "                verbose=1)"
   ]
  },
  {
   "cell_type": "code",
   "execution_count": 45,
   "metadata": {},
   "outputs": [
    {
     "name": "stdout",
     "output_type": "stream",
     "text": [
      "Results summary\n",
      "Results in hyperband_tuner/untitled_project\n",
      "Showing 3 best trials\n",
      "Objective(name='val_accuracy', direction='max')\n",
      "Trial summary\n",
      "Hyperparameters:\n",
      "units: 40\n",
      "dense_activation: tanh\n",
      "dropout: 0.2\n",
      "tuner/epochs: 35\n",
      "tuner/initial_epoch: 12\n",
      "tuner/bracket: 3\n",
      "tuner/round: 3\n",
      "tuner/trial_id: 771b6571cd69176a07a8019fa3a704f7\n",
      "Score: 0.7248120307922363\n",
      "Trial summary\n",
      "Hyperparameters:\n",
      "units: 40\n",
      "dense_activation: tanh\n",
      "dropout: 0.30000000000000004\n",
      "tuner/epochs: 35\n",
      "tuner/initial_epoch: 12\n",
      "tuner/bracket: 2\n",
      "tuner/round: 2\n",
      "tuner/trial_id: 88006f1a3993802fcbefa53be4c01578\n",
      "Score: 0.7210526466369629\n",
      "Trial summary\n",
      "Hyperparameters:\n",
      "units: 40\n",
      "dense_activation: tanh\n",
      "dropout: 0.6000000000000001\n",
      "tuner/epochs: 35\n",
      "tuner/initial_epoch: 12\n",
      "tuner/bracket: 1\n",
      "tuner/round: 1\n",
      "tuner/trial_id: e46360c9fc380a9014ad2d39183bc472\n",
      "Score: 0.7180451154708862\n"
     ]
    }
   ],
   "source": [
    "tuner_hb.results_summary(3)"
   ]
  },
  {
   "cell_type": "code",
   "execution_count": 46,
   "metadata": {
    "scrolled": true
   },
   "outputs": [
    {
     "name": "stdout",
     "output_type": "stream",
     "text": [
      "{'units': 40, 'dense_activation': 'tanh', 'dropout': 0.2, 'tuner/epochs': 35, 'tuner/initial_epoch': 12, 'tuner/bracket': 3, 'tuner/round': 3, 'tuner/trial_id': '771b6571cd69176a07a8019fa3a704f7'}\n"
     ]
    }
   ],
   "source": [
    "best_hyperparameters_hb = tuner_hb.get_best_hyperparameters(num_trials=1)[0]\n",
    "print(best_hyperparameters_hb.values)"
   ]
  },
  {
   "cell_type": "code",
   "execution_count": 47,
   "metadata": {},
   "outputs": [
    {
     "name": "stdout",
     "output_type": "stream",
     "text": [
      "24/24 [==============================] - 0s 3ms/step - loss: 1.3165 - accuracy: 0.6830\n"
     ]
    }
   ],
   "source": [
    "best_model_hb = tuner_hb.get_best_models(num_models=1)[0]\n",
    "loss_hb, mse_hb = best_model_hb.evaluate(X_test_keras, y_test_keras)"
   ]
  },
  {
   "cell_type": "markdown",
   "metadata": {},
   "source": [
    "Using the hyperparameters found by Hyperband, we'll train the model again, this time using smaller batch size, higher number of epochs while still keep the callbacks function to prevent overfitting."
   ]
  },
  {
   "cell_type": "code",
   "execution_count": 48,
   "metadata": {
    "scrolled": true
   },
   "outputs": [
    {
     "name": "stdout",
     "output_type": "stream",
     "text": [
      "Epoch 1/50\n",
      "2989/2989 [==============================] - 14s 4ms/step - loss: 5.2501 - accuracy: 0.1960 - val_loss: 3.4356 - val_accuracy: 0.4180\n",
      "Epoch 2/50\n",
      "2989/2989 [==============================] - 11s 4ms/step - loss: 2.5753 - accuracy: 0.5530 - val_loss: 2.4646 - val_accuracy: 0.5549\n",
      "Epoch 3/50\n",
      "2989/2989 [==============================] - 13s 4ms/step - loss: 1.5181 - accuracy: 0.7419 - val_loss: 1.9611 - val_accuracy: 0.6150\n",
      "Epoch 4/50\n",
      "2989/2989 [==============================] - 12s 4ms/step - loss: 0.9084 - accuracy: 0.8579 - val_loss: 1.6442 - val_accuracy: 0.6632\n",
      "Epoch 5/50\n",
      "2989/2989 [==============================] - 11s 4ms/step - loss: 0.5351 - accuracy: 0.9342 - val_loss: 1.4695 - val_accuracy: 0.6857\n",
      "Epoch 6/50\n",
      "2989/2989 [==============================] - 11s 4ms/step - loss: 0.3034 - accuracy: 0.9693 - val_loss: 1.3787 - val_accuracy: 0.6902\n",
      "Epoch 7/50\n",
      "2989/2989 [==============================] - 11s 4ms/step - loss: 0.1903 - accuracy: 0.9772 - val_loss: 1.3456 - val_accuracy: 0.6962\n",
      "Epoch 8/50\n",
      "2989/2989 [==============================] - 11s 4ms/step - loss: 0.1143 - accuracy: 0.9900 - val_loss: 1.3150 - val_accuracy: 0.6932\n",
      "Epoch 9/50\n",
      "2989/2989 [==============================] - 12s 4ms/step - loss: 0.0748 - accuracy: 0.9929 - val_loss: 1.3229 - val_accuracy: 0.6902\n",
      "Epoch 10/50\n",
      "2989/2989 [==============================] - 12s 4ms/step - loss: 0.0523 - accuracy: 0.9928 - val_loss: 1.3387 - val_accuracy: 0.6947\n",
      "Epoch 11/50\n",
      "2989/2989 [==============================] - 11s 4ms/step - loss: 0.0341 - accuracy: 0.9955 - val_loss: 1.3670 - val_accuracy: 0.6932\n",
      "Epoch 12/50\n",
      "2989/2989 [==============================] - 12s 4ms/step - loss: 0.0284 - accuracy: 0.9956 - val_loss: 1.4034 - val_accuracy: 0.6887\n",
      "Epoch 13/50\n",
      "2989/2989 [==============================] - 12s 4ms/step - loss: 0.0204 - accuracy: 0.9957 - val_loss: 1.4151 - val_accuracy: 0.6797\n"
     ]
    }
   ],
   "source": [
    "nn_hb = Sequential()\n",
    "nn_hb.add(Dense(40, input_shape=(max_words,)))\n",
    "nn_hb.add(Activation('tanh'))\n",
    "nn_hb.add(Dropout(0.2))\n",
    "\n",
    "nn_hb.add(Dense(nb_classes))\n",
    "nn_hb.add(Activation('softmax'))\n",
    "\n",
    "nn_hb.compile(loss='categorical_crossentropy',\n",
    "          optimizer='adam',\n",
    "          metrics=['accuracy'])\n",
    "\n",
    "\n",
    "hb_callback = callbacks.EarlyStopping(\n",
    "    monitor='val_loss',\n",
    "    patience=5\n",
    "    )\n",
    "\n",
    "history_hb = nn_hb.fit(X_train_keras, y_train_keras, epochs=50,\n",
    "                       callbacks=[hb_callback],\n",
    "                       validation_split=0.1, batch_size=2, verbose=1)"
   ]
  },
  {
   "cell_type": "code",
   "execution_count": 49,
   "metadata": {},
   "outputs": [
    {
     "name": "stdout",
     "output_type": "stream",
     "text": [
      "24/24 [==============================] - 0s 9ms/step - loss: 1.4185 - accuracy: 0.7222\n"
     ]
    }
   ],
   "source": [
    "loss_best_hb, accuracy_best_hb = nn_hb.evaluate(X_test_keras, y_test_keras)"
   ]
  },
  {
   "cell_type": "markdown",
   "metadata": {},
   "source": [
    "**Make final predictions**"
   ]
  },
  {
   "cell_type": "code",
   "execution_count": 50,
   "metadata": {},
   "outputs": [],
   "source": [
    "# predictions_nn = np.argmax(nn_hb.predict(new_data), axis=-1)\n",
    "\n",
    "# # reverse the encoding to the initial labels\n",
    "# y_pred_nn = encoder.inverse_transform(predictions_nn)"
   ]
  },
  {
   "cell_type": "markdown",
   "metadata": {},
   "source": [
    "Overall, for this data set, SGD performs better than 1 hidden layer MLP. However, with larger training set, more complex models like MLP may detect patterns better.\n",
    "\n",
    "Further improvement on MLP can be explored by increasing number of hidden layers and searching within a larger hyperparameter space."
   ]
  }
 ],
 "metadata": {
  "kernelspec": {
   "display_name": "Python 3",
   "language": "python",
   "name": "python3"
  },
  "language_info": {
   "codemirror_mode": {
    "name": "ipython",
    "version": 3
   },
   "file_extension": ".py",
   "mimetype": "text/x-python",
   "name": "python",
   "nbconvert_exporter": "python",
   "pygments_lexer": "ipython3",
   "version": "3.7.9"
  },
  "toc": {
   "base_numbering": 1,
   "nav_menu": {},
   "number_sections": true,
   "sideBar": true,
   "skip_h1_title": true,
   "title_cell": "Table of Contents",
   "title_sidebar": "Contents",
   "toc_cell": false,
   "toc_position": {
    "height": "calc(100% - 180px)",
    "left": "10px",
    "top": "150px",
    "width": "214px"
   },
   "toc_section_display": true,
   "toc_window_display": true
  }
 },
 "nbformat": 4,
 "nbformat_minor": 4
}
